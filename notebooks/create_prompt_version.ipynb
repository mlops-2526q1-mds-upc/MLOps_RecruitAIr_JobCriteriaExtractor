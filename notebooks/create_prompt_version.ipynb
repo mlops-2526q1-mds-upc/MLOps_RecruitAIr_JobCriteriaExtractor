{
 "cells": [
  {
   "cell_type": "code",
   "execution_count": 1,
   "id": "32e5adfa",
   "metadata": {},
   "outputs": [],
   "source": [
    "import os\n",
    "import sys\n",
    "import mlflow\n",
    "\n",
    "sys.path.append(os.path.abspath(\"..\"))\n",
    "\n",
    "from recruitair.job_offers.models import KeyCriteriaResponse\n",
    "\n",
    "mlflow.set_tracking_uri(\"http://nattech.fib.upc.edu:40380/\")"
   ]
  },
  {
   "cell_type": "code",
   "execution_count": 2,
   "id": "6c50c954",
   "metadata": {},
   "outputs": [],
   "source": [
    "prompt_template = r\"\"\"The following text is a job offer. From it, extract all the key requirements or\n",
    "criteria that an applicant to this job offer must or should fulfill. Criteria can\n",
    "be either explicit requirements that are clearly stated in the job offer, implicit\n",
    "requirements that are not clearly stated but can be inferred from the job offer,\n",
    "desirable qualities that are not strictly required but would make an applicant\n",
    "more competitive, or any other relevant criteria that can be derived from the job offer.\n",
    "\n",
    "For each criterion, provide:\n",
    "- A title in one or two words at most.\n",
    "- A brief but exhaustive description, which will be used later for evaluation, so\n",
    "    it must be clear, precise, and unambiguous.\n",
    "- An importance rating from 0 to 100, where 0 means \"it would be okay for an applicant\n",
    "    to have this criterion, but it's not bad if they don't\" and 100 means \"an applicant\n",
    "    must absolutely have this criterion to be considered for the job\".\n",
    "\n",
    "Provide the output as a JSON object with a single field \"key_criteria\", which is\n",
    "a list of dictionaries, each representing a key requirement or criterion with\n",
    "the fields \"title\", \"description\", and \"importance\".\n",
    "\n",
    "For example, if the job offer has the following text:\n",
    "\n",
    "```\n",
    "We are looking for a Junior Machine Learning Engineer with expertise and passion\n",
    "in the Gen AI space.\n",
    "```\n",
    "\n",
    "You might extract the following key criteria:\n",
    "\n",
    "```json\n",
    "{\n",
    "    \"key_criteria\": [\n",
    "        {\n",
    "            \"name\": \"Generative AI Expertise\",\n",
    "            \"importance\": 100\n",
    "        },\n",
    "        {\n",
    "            \"name\": \"Machine Learning Background\",\n",
    "            \"importance\": 60\n",
    "        }\n",
    "        ...\n",
    "    ]\n",
    "}\n",
    "```\n",
    "\n",
    "Or if the job offer has the following text:\n",
    "\n",
    "```\n",
    "BSc or MSc in Computer Science, Artificial Intelligence, Mathematics, Data Science,\n",
    "or any other related discipline or commensurate work experience or demonstrated\n",
    "competence. MSc related to Generative AI would be a plus.\n",
    "Between 0 - 3 years of work experience, internships related to the job content\n",
    "would also be valuable. Exposure to Gen AI in previous projects / internships.\n",
    "```\n",
    "\n",
    "You might extract the following key criteria:\n",
    "\n",
    "```json\n",
    "{\n",
    "    \"key_criteria\": [\n",
    "        {\n",
    "            \"name\": \"BSc or MSc in Computer Science, Artificial Intelligence, Mathematics, Data Science, or related discipline.\",\n",
    "            \"importance\": 100\n",
    "        },\n",
    "        {\n",
    "            \"name\": \"Generative AI Education\",\n",
    "            \"importance\": 50\n",
    "        },\n",
    "        {\n",
    "            \"name\": \"0-3 years of Work Experience\",\n",
    "            \"importance\": 80\n",
    "        },\n",
    "        {\n",
    "            \"name\": \"Generative AI Exposure in Projects/Internships\",\n",
    "            \"importance\": 80\n",
    "        }\n",
    "        ...\n",
    "    ]\n",
    "}\n",
    "```\n",
    "\n",
    "Here's the job offer text:\n",
    "{{ job_offer_text }}\n",
    "Provide the output as a JSON object only, without any additional text or explanation.\"\"\""
   ]
  },
  {
   "cell_type": "code",
   "execution_count": 3,
   "id": "c231610e",
   "metadata": {},
   "outputs": [
    {
     "name": "stderr",
     "output_type": "stream",
     "text": [
      "2025/10/06 22:06:29 INFO mlflow.store.model_registry.abstract_store: Waiting up to 300 seconds for prompt version to finish creation. Prompt name: criteria-extraction, version 1\n"
     ]
    },
    {
     "data": {
      "text/plain": [
       "PromptVersion(name=criteria-extraction, version=1, template=The following text is a job of...)"
      ]
     },
     "execution_count": 3,
     "metadata": {},
     "output_type": "execute_result"
    }
   ],
   "source": [
    "mlflow.genai.register_prompt(\n",
    "    \"criteria-extraction\",\n",
    "    prompt_template,\n",
    "    response_format=KeyCriteriaResponse,\n",
    "    tags={\"domain\": \"recruitair\", \"task\": \"criteria-extraction\"},\n",
    ")"
   ]
  }
 ],
 "metadata": {
  "kernelspec": {
   "display_name": "CriteriaExtractor (3.12.9)",
   "language": "python",
   "name": "python3"
  },
  "language_info": {
   "codemirror_mode": {
    "name": "ipython",
    "version": 3
   },
   "file_extension": ".py",
   "mimetype": "text/x-python",
   "name": "python",
   "nbconvert_exporter": "python",
   "pygments_lexer": "ipython3",
   "version": "3.12.9"
  }
 },
 "nbformat": 4,
 "nbformat_minor": 5
}
