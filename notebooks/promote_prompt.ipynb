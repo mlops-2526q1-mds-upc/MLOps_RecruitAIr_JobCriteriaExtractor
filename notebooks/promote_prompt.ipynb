{
 "cells": [
  {
   "cell_type": "code",
   "execution_count": 28,
   "id": "0c027b19",
   "metadata": {},
   "outputs": [],
   "source": [
    "import mlflow\n",
    "\n",
    "mlflow.set_tracking_uri(\"http://nattech.fib.upc.edu:40380/\")"
   ]
  },
  {
   "cell_type": "code",
   "execution_count": 29,
   "id": "ea88349f",
   "metadata": {},
   "outputs": [],
   "source": [
    "MLFLOW_PROMPT_NAME = \"one-shot-long-descriptions\"\n",
    "MLFLOW_PROMPT_VERSION = 1\n",
    "PRODUCTION_PROMPT = \"criteria-extraction\""
   ]
  },
  {
   "cell_type": "code",
   "execution_count": 30,
   "id": "d1acad3e",
   "metadata": {},
   "outputs": [],
   "source": [
    "prompt = mlflow.genai.load_prompt(f\"prompts:/{MLFLOW_PROMPT_NAME}/{MLFLOW_PROMPT_VERSION}\")"
   ]
  },
  {
   "cell_type": "code",
   "execution_count": 18,
   "id": "496d41a7",
   "metadata": {},
   "outputs": [
    {
     "name": "stderr",
     "output_type": "stream",
     "text": [
      "2025/10/11 13:16:00 INFO mlflow.store.model_registry.abstract_store: Waiting up to 300 seconds for prompt version to finish creation. Prompt name: criteria-extraction, version 3\n"
     ]
    },
    {
     "data": {
      "text/plain": [
       "PromptVersion(name=criteria-extraction, version=3, template=The following text is a job of...)"
      ]
     },
     "execution_count": 18,
     "metadata": {},
     "output_type": "execute_result"
    }
   ],
   "source": [
    "mlflow.genai.register_prompt(\n",
    "    name=PRODUCTION_PROMPT,\n",
    "    template=prompt.template,\n",
    "    response_format=prompt.response_format,\n",
    "    tags={\"domain\": \"recruitair\", \"task\": \"criteria-extraction\", \"stage\": \"production\"},\n",
    ")"
   ]
  }
 ],
 "metadata": {
  "kernelspec": {
   "display_name": "CriteriaExtractor (3.12.9)",
   "language": "python",
   "name": "python3"
  },
  "language_info": {
   "codemirror_mode": {
    "name": "ipython",
    "version": 3
   },
   "file_extension": ".py",
   "mimetype": "text/x-python",
   "name": "python",
   "nbconvert_exporter": "python",
   "pygments_lexer": "ipython3",
   "version": "3.12.9"
  }
 },
 "nbformat": 4,
 "nbformat_minor": 5
}
